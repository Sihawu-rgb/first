{
 "cells": [
  {
   "cell_type": "markdown",
   "id": "eca68909-dc96-4d96-9f44-e7f3db46c2e4",
   "metadata": {},
   "source": [
    "# H1:'_Data Science Tools and Ecosystems_'\n"
   ]
  },
  {
   "cell_type": "markdown",
   "id": "739e96b7-c781-4ebe-bd8c-42387efb6e66",
   "metadata": {},
   "source": [
    "'_In this Notebook, Data Science Tools and Ecosystems are Summarized_'"
   ]
  },
  {
   "cell_type": "markdown",
   "id": "da46c6ef-4193-4009-80de-20cc15547ba6",
   "metadata": {},
   "source": [
    "# H1_:_Objectives:_\n",
    "\n"
   ]
  },
  {
   "cell_type": "markdown",
   "id": "e721360f-1ecd-4b42-9b56-2cad489ea51a",
   "metadata": {},
   "source": [
    "*Notebooks are used in Data Science for recording eperiments and projects\n",
    "\n",
    "*Jupyter is compitable with many files and Data Science Languages\n",
    "\n",
    "*There are different ways to use and install Jupyter Notebooks\n",
    "\n",
    "*How to run different notebooks at the sametime"
   ]
  },
  {
   "cell_type": "markdown",
   "id": "87783f09-5c96-4a46-abfe-ea96024ee45f",
   "metadata": {},
   "source": [
    "'Some of the Popular Languages that Data Scientist use are:'"
   ]
  },
  {
   "cell_type": "markdown",
   "id": "52192294-bb96-414a-b48f-c118089eabbf",
   "metadata": {},
   "source": [
    "1. Python\n",
    "2. R\n",
    "3. SQL\n",
    "4. Scala\n",
    "5. C++"
   ]
  },
  {
   "cell_type": "markdown",
   "id": "b7f1c38f-1d65-49cf-b105-53539e216e06",
   "metadata": {},
   "source": [
    "'_Some of Commonly used Libraries used by Data Scientist Include_:'"
   ]
  },
  {
   "cell_type": "markdown",
   "id": "ae47a4a5-47b6-4249-a0cd-4ef18fa3c3ca",
   "metadata": {},
   "source": [
    "1. Pandas\n",
    "2. NumPy\n",
    "3. SciPy\n",
    "4. Matplotlib"
   ]
  },
  {
   "cell_type": "markdown",
   "id": "32cf1d4b-320c-4cec-ba1c-f4f006dcd428",
   "metadata": {},
   "source": [
    "|_Data Science Tool_|\n",
    "|-------------------|\n",
    "|Jupyter|\n",
    "|Apache Zeppelin|\n",
    "|Spyder|"
   ]
  },
  {
   "cell_type": "markdown",
   "id": "9b3cd7cb-4f4d-4b5d-99c4-20f9c00e3777",
   "metadata": {},
   "source": [
    "### H3:'Before are a few examples of evaluating arithmetic expression in Python'"
   ]
  },
  {
   "cell_type": "code",
   "execution_count": 5,
   "id": "3038f1cc-7d66-487b-b83a-0878251d67bf",
   "metadata": {},
   "outputs": [
    {
     "data": {
      "text/plain": [
       "17"
      ]
     },
     "execution_count": 5,
     "metadata": {},
     "output_type": "execute_result"
    }
   ],
   "source": [
    "(3*4)+5\n"
   ]
  },
  {
   "cell_type": "markdown",
   "id": "177a718a-4b80-459a-b817-ff30ecb729e4",
   "metadata": {},
   "source": [
    " 'This is a simple arithmetic expresion to multiply then add integers'\n"
   ]
  },
  {
   "cell_type": "markdown",
   "id": "3a5f3623-3ac5-426c-a5d8-7ae4921cd82d",
   "metadata": {},
   "source": [
    "This will convert 200 minutes to hours by deviding by 60"
   ]
  },
  {
   "cell_type": "markdown",
   "id": "d540c598-a684-4d2a-a2af-3593db9e2fdb",
   "metadata": {},
   "source": [
    "## H2: Author\n",
    "Sihawu Ngcobo\n"
   ]
  },
  {
   "cell_type": "code",
   "execution_count": null,
   "id": "0537aaa2-d19a-4070-9ffa-3190e19c2d7d",
   "metadata": {},
   "outputs": [],
   "source": []
  },
  {
   "cell_type": "code",
   "execution_count": null,
   "id": "7972dc2b-06ef-4002-a3f5-94d09b7a01d7",
   "metadata": {},
   "outputs": [],
   "source": []
  }
 ],
 "metadata": {
  "kernelspec": {
   "display_name": "Python",
   "language": "python",
   "name": "conda-env-python-py"
  },
  "language_info": {
   "codemirror_mode": {
    "name": "ipython",
    "version": 3
   },
   "file_extension": ".py",
   "mimetype": "text/x-python",
   "name": "python",
   "nbconvert_exporter": "python",
   "pygments_lexer": "ipython3",
   "version": "3.7.12"
  }
 },
 "nbformat": 4,
 "nbformat_minor": 5
}
